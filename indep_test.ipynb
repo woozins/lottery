{
  "cells": [
    {
      "cell_type": "code",
      "execution_count": 1,
      "metadata": {
        "id": "djrwCtvbYSx0"
      },
      "outputs": [],
      "source": [
        "import pandas as pd\n",
        "import numpy as np\n",
        "import random\n",
        "import chardet\n",
        "import itertools\n",
        "import math\n",
        "from scipy import stats\n",
        "from concurrent.futures import ProcessPoolExecutor\n",
        "from functools import lru_cache\n",
        "from multiprocessing import Pool, cpu_count, Process, Queue\n",
        "from tqdm import tqdm"
      ]
    },
    {
      "cell_type": "markdown",
      "metadata": {
        "id": "kysVWb_bYjhz"
      },
      "source": [
        "## 추첨결과의 독립성 검정\n",
        "\n",
        "- 역대 당첨결과를 가지고, 다음과 같이 유의성을 검정한다.\n",
        "\t- 기존의 chi-square 가지고 경험적 p-value구하기\n",
        "\t\t- $H_o$ (추첨결과는 랜덤이다) 하에서 랜덤표본을 충분히 많이 생성하고, 각각에 대해$X^2$를 구한다. 각 실제 회차 당첨번호에 대하여 경험적 p-value를 산출한다\n",
        "\t- Genest(2002)의 weighted sum of chi-square을 가지고 p-value를 구하여 유의성을 검정하기\n",
        "\t\t- $X^2$ 가 weighted sum of chi-square 임을 이용하여 이론적인 P-VALUE를 구하기\n",
        "\n",
        "\t- 위의 두 방법을 $H_o$를 다음과 같이 변화해 가며 검정한다\n",
        "\t\t- $H_{o1}$ :  각 숫자(1~45) 의 추첨 빈도는 동일하다\n",
        "\t\t- $H_{o2}$ : 두 숫자의 Pair : *총 $\\binom{45}{2}$ 개의 추첨 빈도는 동일하다\n",
        "\t\t- $H_{o3}$ : 세 숫자의 pair : 총 $\\binom{45}{3}$ 개의 추첨 빈도는 동일하다.\n",
        "\t\t- $X^2$ 통계량의 성능이 괜찮을 때 까지 진행한다(각 cell의 기대도수 고려) -> pair 까지만 진행하기로 한다.\n",
        "  \n",
        "\n",
        "\n",
        "\t- 추가적으로, 이론적 p-value와 asymptotic 한 p-value를 table로 비교한다.\n",
        "\n",
        "예상 결론 : 추첨은 완전한 Random"
      ]
    },
    {
      "cell_type": "code",
      "execution_count": 3,
      "metadata": {
        "id": "E3U-TQ5DdZ4W"
      },
      "outputs": [],
      "source": [
        "#실제 데이터 분할표 만들기\n",
        "real = pd.read_excel('601-1131.xlsx', header = None)\n",
        "real = real.iloc[:,:6]\n",
        "# 각 숫자에 대한 분할표\n",
        "freqtable1 = pd.Series(real.values.flatten()).value_counts().sort_index()\n",
        "\n",
        "# 두 숫자의 쌍에 대한 분할표\n",
        "numbers = list(range(1,46))\n",
        "combinations = list(itertools.combinations(numbers, 2))\n",
        "\n",
        "temp = []\n",
        "for pair in combinations:\n",
        "  temp.append(sum(all(element in draw for element in pair) for draw in real.values))\n",
        "\n",
        "freqtable2 = pd.DataFrame(temp, index = combinations)"
      ]
    },
    {
      "cell_type": "code",
      "execution_count": 7,
      "metadata": {
        "id": "3QxURbeAaQdO"
      },
      "outputs": [],
      "source": [
        "# Ho에 대한 경험적 p-value 검정.\n",
        "\n",
        "# D회차간의 랜덤한 로또번호를 generate 시키자.\n",
        "\n",
        "D = 1131\n",
        "\n",
        "#trial generate 시키는 함수\n",
        "def trial(D):\n",
        "    return [sorted(np.random.choice(np.arange(1, 46), size=6, replace=False)) for _ in range(D)]\n",
        "\n",
        "#숫자 분할표 생성함수\n",
        "def gen_freqtable1(data):\n",
        "  flattened_data = np.concatenate(data)\n",
        "  lst = pd.Series(flattened_data).value_counts().sort_index()\n",
        "  return lst\n",
        "\n",
        "#쌍 분할표 생성함수\n",
        "def gen_freqtable2(data):\n",
        "  combinations = list(itertools.combinations(list(range(1,46)), 2))\n",
        "  # 45x45 매트릭스 생성\n",
        "  frequency_matrix = np.zeros((45, 45))\n",
        "\n",
        "  for draw in data:\n",
        "      indices = np.array(draw) - 1  # 숫자 1~45를 인덱스 0~44로 조정\n",
        "      for i, j in itertools.combinations(indices, 2):\n",
        "          frequency_matrix[i, j] += 1\n",
        "          frequency_matrix[j, i] += 1\n",
        "\n",
        "  freq_table = pd.DataFrame(frequency_matrix, index=np.arange(1, 46), columns=np.arange(1, 46))\n",
        "  upper_triangular_indices = np.triu_indices_from(frequency_matrix, k=1)\n",
        "  freq_1d_array = frequency_matrix[upper_triangular_indices]\n",
        "\n",
        "  return freq_1d_array"
      ]
    },
    {
      "cell_type": "code",
      "execution_count": 23,
      "metadata": {
        "colab": {
          "base_uri": "https://localhost:8080/"
        },
        "id": "XYC-37HnsdF7",
        "outputId": "8ef0ab20-8248-4283-efb7-8219bcb4dda0"
      },
      "outputs": [],
      "source": [
        "# K회 생성된 로또 샘플에 대해 기존 chi-square 통계량으로 p-value를 계산하자.\n",
        "# 분할표의 카이제곱 통계량 계산하는 함수.\n",
        "np.random.seed(777)\n",
        "\n",
        "def chisq(table):\n",
        "      # expected 값은 table 내의 모든 값의 합을 table의 행 개수로 나눈 값\n",
        "      expected = table.sum() / table.shape[0]\n",
        "      # chisq 계산\n",
        "      return ((table - expected) ** 2 / expected).sum()\n",
        "\n",
        "\n",
        "K = 1000 # bootstrap K번 반복\n",
        "def generate_chisq_values(gen_freqtable, trial_func, D, K):\n",
        "    # 결과를 미리 numpy 배열로 생성해둠\n",
        "    X2values = np.empty(K)\n",
        "    for i in range(K):\n",
        "        table = gen_freqtable(trial_func(D))\n",
        "        X2values[i] = chisq(table)\n",
        "    return X2values\n",
        "\n",
        "chisq_values_single = generate_chisq_values(gen_freqtable1, trial, D, K)\n",
        "chisq_values_pair = generate_chisq_values(gen_freqtable2, trial, D, K)\n"
      ]
    },
    {
      "cell_type": "code",
      "execution_count": 24,
      "metadata": {
        "colab": {
          "base_uri": "https://localhost:8080/"
        },
        "id": "0u9FGZUpxMn1",
        "outputId": "e04a3ecf-6d4a-4bd0-f80a-b5436acabbc9"
      },
      "outputs": [
        {
          "name": "stdout",
          "output_type": "stream",
          "text": [
            "0.898\n",
            "0.785\n"
          ]
        },
        {
          "name": "stderr",
          "output_type": "stream",
          "text": [
            "C:\\Users\\jmjwj\\AppData\\Local\\Temp\\ipykernel_22564\\28812861.py:3: FutureWarning: Calling int on a single element Series is deprecated and will raise a TypeError in the future. Use int(ser.iloc[0]) instead\n",
            "  print(np.mean(int(chisq(freqtable2)) <= np.array(chisq_values_pair)))\n"
          ]
        }
      ],
      "source": [
        "#실제 데이터의 검정통계량 값을 이용하여 계산한 p-value\n",
        "print(np.mean(int(chisq(freqtable1)) <= np.array(chisq_values_single)))\n",
        "print(np.mean(int(chisq(freqtable2)) <= np.array(chisq_values_pair)))"
      ]
    },
    {
      "cell_type": "markdown",
      "metadata": {
        "id": "s7FHA5VldiqA"
      },
      "source": [
        "각 숫자 독립성 검정에서 카이제곱 통계량은\n",
        "$X^2 \\approx \\frac{N-k}{N-1}\\chi^2_{N-1}$\n",
        "\n",
        "\n",
        "\n",
        "각 쌍 독립성 검정에서 카이제곱 통계량은\n",
        "$X^2 ≈ ((k-1)\\binom{N-3}{k-2}/\\binom{N-2}{k-2})\\chi^2_{N-1} + \\binom{N-4}{k-2}/\\binom{N-2}{k-2}\\chi^2_{N(N-3)/2}$, in our case, N=45, k =7"
      ]
    },
    {
      "cell_type": "code",
      "execution_count": 9,
      "metadata": {
        "colab": {
          "base_uri": "https://localhost:8080/"
        },
        "id": "l-r2LwtBy7bt",
        "outputId": "5d080087-f5cf-46ce-fd4d-92f6dcca0651"
      },
      "outputs": [
        {
          "name": "stdout",
          "output_type": "stream",
          "text": [
            "각 숫자에 대한 점근적 검정 p-value: 0.8687567715428611\n",
            "각 쌍에 대한 점근적 검정 p-value: [0.80196892]\n"
          ]
        }
      ],
      "source": [
        "# Ho에 대한 점근적 카이제곱 검정,\n",
        "\n",
        "N = 45\n",
        "k = 6\n",
        "\n",
        "# #moment-matching 시키면(pair 검정통계량)\n",
        "\n",
        "# 점근적 독립성 검정\n",
        "\n",
        "w1 = (N-k)*(k-1)/(N-2)\n",
        "w2 = ((N-k)*(N-k-1))/((N-2)*(N-3))\n",
        "w = np.array([w1, w2])\n",
        "\n",
        "v1 = N-1\n",
        "v2 = N*(N-3)/2\n",
        "v = np.array([v1,v2])\n",
        "\n",
        "\n",
        "b = (((w**3)*v).sum()) / (((w**2)*v).sum())\n",
        "V = ((((w**2)*v).sum())**3) / ((((w**3)*v).sum())**2)\n",
        "a = (w*v).sum() - b*V\n",
        "\n",
        "\n",
        "X2_1 = chisq(freqtable1)\n",
        "X2_2 = chisq(freqtable2)\n",
        "\n",
        "print(\"각 숫자에 대한 점근적 검정 p-value:\", stats.chi2.sf(X2_1*(N-1)/(N-k), N-1))\n",
        "print(\"각 쌍에 대한 점근적 검정 p-value:\",stats.chi2.sf((X2_2 - a)/b, V))\n"
      ]
    }
  ],
  "metadata": {
    "accelerator": "GPU",
    "colab": {
      "gpuType": "T4",
      "provenance": []
    },
    "kernelspec": {
      "display_name": "Python 3",
      "name": "python3"
    },
    "language_info": {
      "codemirror_mode": {
        "name": "ipython",
        "version": 3
      },
      "file_extension": ".py",
      "mimetype": "text/x-python",
      "name": "python",
      "nbconvert_exporter": "python",
      "pygments_lexer": "ipython3",
      "version": "3.11.5"
    }
  },
  "nbformat": 4,
  "nbformat_minor": 0
}
